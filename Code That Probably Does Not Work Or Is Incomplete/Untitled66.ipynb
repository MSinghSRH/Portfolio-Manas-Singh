{
  "nbformat": 4,
  "nbformat_minor": 0,
  "metadata": {
    "colab": {
      "provenance": []
    },
    "kernelspec": {
      "name": "python3",
      "display_name": "Python 3"
    },
    "language_info": {
      "name": "python"
    }
  },
  "cells": [
    {
      "cell_type": "code",
      "source": [
        "!wget https://antidote.cloud/f/467bc9fab4da4d2da65f/?dl=1 -O img.jpg"
      ],
      "metadata": {
        "id": "hxoj6upRntoa",
        "colab": {
          "base_uri": "https://localhost:8080/"
        },
        "outputId": "aa441261-7bf1-469f-88cd-afaed83a12d2"
      },
      "execution_count": 1,
      "outputs": [
        {
          "output_type": "stream",
          "name": "stdout",
          "text": [
            "--2023-11-04 13:01:00--  https://antidote.cloud/f/467bc9fab4da4d2da65f/?dl=1\n",
            "Resolving antidote.cloud (antidote.cloud)... 193.30.122.219\n",
            "Connecting to antidote.cloud (antidote.cloud)|193.30.122.219|:443... connected.\n",
            "HTTP request sent, awaiting response... 302 Found\n",
            "Location: https://antidote.cloud/seafhttp/files/2514b2f4-fa22-4756-9c03-78f0bb461150/img.jpg [following]\n",
            "--2023-11-04 13:01:00--  https://antidote.cloud/seafhttp/files/2514b2f4-fa22-4756-9c03-78f0bb461150/img.jpg\n",
            "Reusing existing connection to antidote.cloud:443.\n",
            "HTTP request sent, awaiting response... 200 OK\n",
            "Length: 75466 (74K) [image/jpeg]\n",
            "Saving to: ‘img.jpg’\n",
            "\n",
            "img.jpg             100%[===================>]  73.70K  --.-KB/s    in 0.01s   \n",
            "\n",
            "2023-11-04 13:01:00 (6.65 MB/s) - ‘img.jpg’ saved [75466/75466]\n",
            "\n"
          ]
        }
      ]
    },
    {
      "cell_type": "code",
      "source": [
        "import cv2\n",
        "import numpy as np\n",
        "import os\n",
        "import math\n",
        "from google.colab.patches import cv2_imshow\n",
        "\n",
        "img = cv2.imread('img.jpg')\n",
        "\n",
        "class im2angle:\n",
        "  def __init__(self, img):\n",
        "    self.frame = img\n",
        "\n",
        "  def edge_detection(self):\n",
        "    # filter for blue lane lines\n",
        "    # (hMin = 80 , sMin = 65, vMin = 29), (hMax = 197 , sMax = 255, vMax = 255)\n",
        "    hsv = cv2.cvtColor(self.frame, cv2.COLOR_BGR2HSV)\n",
        "    lower_blue = np.array([80, 65, 29])\n",
        "    upper_blue = np.array([179, 255, 255])\n",
        "    mask = cv2.inRange(hsv, lower_blue, upper_blue)\n",
        "    edges = cv2.Canny(mask, 200, 400)\n",
        "    return edges\n",
        "\n",
        "  def show_image(self, frame):\n",
        "    cv2_imshow(frame)\n",
        "\n",
        "foo = im2angle(img)\n",
        "edges = foo.edge_detection()\n",
        "foo.show_image(edges)"
      ],
      "metadata": {
        "colab": {
          "base_uri": "https://localhost:8080/",
          "height": 497
        },
        "id": "LXlKvSCXpiJS",
        "outputId": "6d5b6f89-1381-4d90-b95b-8e4ab89fb56b"
      },
      "execution_count": 3,
      "outputs": [
        {
          "output_type": "display_data",
          "data": {
            "text/plain": [
              "<PIL.Image.Image image mode=L size=640x480>"
            ],
            "image/png": "[encoded data removed]"
          },
          "metadata": {}
        }
      ]
    },
    {
      "cell_type": "markdown",
      "source": [
        " ```\n",
        " (hMin = 75 , sMin = 0, vMin = 50),\n",
        " (hMax = 119 , sMax = 255, vMax = 255)\n",
        "\n",
        " from google.colab.patches import cv2_imshow\n",
        "```"
      ],
      "metadata": {
        "id": "7tbfclWTz34L"
      }
    }
  ]
}