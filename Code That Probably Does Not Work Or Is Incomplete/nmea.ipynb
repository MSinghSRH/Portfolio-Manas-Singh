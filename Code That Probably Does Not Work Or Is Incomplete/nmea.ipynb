{
 "cells": [
  {
   "cell_type": "code",
   "execution_count": 30,
   "id": "830f0bb0-9242-422e-8264-d97ea84ba139",
   "metadata": {},
   "outputs": [],
   "source": [
    "from functools import reduce\n",
    "import datetime\n",
    "\n",
    "def chksum(nmea:str) -> bool:\n",
    "    # start index ($)\n",
    "    start = nmea.find(\"$\")\n",
    "    # stop index (*)\n",
    "    stop = nmea.find(\"*\")\n",
    "\n",
    "    if start == -1 or stop == -1:\n",
    "        return False\n",
    "\n",
    "    # substring required for checksum calculation\n",
    "    substr = nmea[start+1:stop]\n",
    "    # checksum from sensor\n",
    "    chksum = nmea[stop+1:]\n",
    "\n",
    "    return hex(reduce(lambda a,b : a^b, map(ord, substr))).lstrip('0x').upper() == chksum"
   ]
  },
  {
   "cell_type": "code",
   "execution_count": 39,
   "id": "f4adca73-969e-4df1-a2cb-b225d68733c6",
   "metadata": {
    "scrolled": true
   },
   "outputs": [
    {
     "name": "stdout",
     "output_type": "stream",
     "text": [
      "checksum error: 270\n",
      "checksum error: 10758\n",
      "checksum error: 23396\n"
     ]
    }
   ],
   "source": [
    "with open(\"sample.nmea\",\"r\") as f: # opening input file\n",
    "    with open(\"latlon.csv\",\"w\") as output: # creating output file\n",
    "        for idx, line in enumerate(f): # reading data line by line with line number (idx)\n",
    "            if not chksum(line.strip()):\n",
    "                print(f\"checksum error: {idx}\")\n",
    "                continue\n",
    "            if not \"GPGGA\" in line: # check if 'GPGGA' is a part of data frame\n",
    "                continue # go to the next line\n",
    "            data = line.split(\",\") # separate parameters, create a list\n",
    "            ts, lat, lat_dir, lon, lon_dir = data[1:6] # extracting timestamp, latitude and longitude\n",
    "            lat_dd = float(lat[:2]) + float(lat[2:])/60.0\n",
    "            lon_dd = float(lon[:3]) + float(lon[3:])/60.0\n",
    "            if lat_dir == \"S\": # direction of the latitude, N = North, S = South\n",
    "                lat_dd *= -1\n",
    "            if lon_dir == \"W\": # direction of the longitude, E = East, W = West\n",
    "                lon_dd *= -1\n",
    "            ts_obj = datetime.datetime.strptime(ts, \"%H%M%S.%f\")\n",
    "            print(f\"{ts_obj.strftime('%H:%M:%S')}, {lat_dd:.3f}, {lon_dd:.3f}\", file=output)"
   ]
  },
  {
   "cell_type": "code",
   "execution_count": 6,
   "id": "ce10cf73-a906-4389-bcf1-da91116f421a",
   "metadata": {},
   "outputs": [
    {
     "data": {
      "application/vnd.jupyter.widget-view+json": {
       "model_id": "43acb3e6851a4c02bbc3a6a08ac08184",
       "version_major": 2,
       "version_minor": 0
      },
      "text/plain": [
       "Map(center=[52.55, 13.55], controls=(ZoomControl(options=['position', 'zoom_in_text', 'zoom_in_title', 'zoom_o…"
      ]
     },
     "metadata": {},
     "output_type": "display_data"
    }
   ],
   "source": [
    "import ipyleaflet\n",
    "\n",
    "mymap = ipyleaflet.Map(center = [52.55, 13.55], zoom=10)\n",
    "\n",
    "locations = []\n",
    "with open(\"latlon.csv\") as f:\n",
    "    for line in f:\n",
    "        locations.append(list(map(float, line.split(\",\"))))\n",
    "\n",
    "# creating new polygon\n",
    "polyline = ipyleaflet.Polyline(locations = locations, color = \"black\", fill = False)\n",
    "\n",
    "mymap.add_layer(polyline)\n",
    "display(mymap)\n"
   ]
  },
  {
   "cell_type": "code",
   "execution_count": 23,
   "id": "4ba4c70b-d4d7-48a9-9f79-ccd9024bb936",
   "metadata": {},
   "outputs": [
    {
     "data": {
      "text/plain": [
       "'6C'"
      ]
     },
     "execution_count": 23,
     "metadata": {},
     "output_type": "execute_result"
    }
   ],
   "source": [
    "nmea = \"GPGGA,171120.094,5242.506,N,01300.685,E,1,12,1.0,0.0,M,0.0,M,,\"\n",
    "hex(reduce(lambda a,b : a^b, map(ord, nmea))).lstrip('0x').upper()"
   ]
  },
  {
   "cell_type": "code",
   "execution_count": 24,
   "id": "da6e653e-72ee-4ba5-8798-e0ea86e19f09",
   "metadata": {},
   "outputs": [
    {
     "data": {
      "text/plain": [
       "'6C'"
      ]
     },
     "execution_count": 24,
     "metadata": {},
     "output_type": "execute_result"
    }
   ],
   "source": [
    "def xor(a, b):\n",
    "    return a^b\n",
    "\n",
    "nmea = \"GPGGA,171120.094,5242.506,N,01300.685,E,1,12,1.0,0.0,M,0.0,M,,\"\n",
    "nmea_ord = [ord(char) for char in nmea]\n",
    "hex(reduce(xor, nmea_ord)).lstrip('0x').upper()"
   ]
  },
  {
   "cell_type": "code",
   "execution_count": 37,
   "id": "e8f2f60e-f7a9-43b2-88ed-69ac406bccfc",
   "metadata": {},
   "outputs": [
    {
     "name": "stdout",
     "output_type": "stream",
     "text": [
      "10:59:50.000000 AM\n"
     ]
    }
   ],
   "source": [
    "time_obj = datetime.datetime.strptime(\"2024-01-31 12:00:00\", \"%Y-%m-%d %H:%M:%S\")\n",
    "time_obj = time_obj + datetime.timedelta(hours=-1, seconds = -10)\n",
    "print(time_obj.strftime(\"%H:%M:%S.%f %p\"))"
   ]
  },
  {
   "cell_type": "code",
   "execution_count": null,
   "id": "40873ee2-930f-4dfa-80da-e7cfbcfed512",
   "metadata": {},
   "outputs": [],
   "source": []
  }
 ],
 "metadata": {
  "kernelspec": {
   "display_name": "Python 3 (ipykernel)",
   "language": "python",
   "name": "python3"
  },
  "language_info": {
   "codemirror_mode": {
    "name": "ipython",
    "version": 3
   },
   "file_extension": ".py",
   "mimetype": "text/x-python",
   "name": "python",
   "nbconvert_exporter": "python",
   "pygments_lexer": "ipython3",
   "version": "3.10.10"
  }
 },
 "nbformat": 4,
 "nbformat_minor": 5
}
