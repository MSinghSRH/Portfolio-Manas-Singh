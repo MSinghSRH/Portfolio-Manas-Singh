{
 "cells": [
  {
   "cell_type": "code",
   "execution_count": 31,
   "id": "d6197142-5f62-4ec7-8f1b-2dd9b5d1d70a",
   "metadata": {},
   "outputs": [
    {
     "name": "stdout",
     "output_type": "stream",
     "text": [
      "[969.5802 966.7989 971.0255 973.3719 973.3149 968.4911 971.0667 971.6737\n",
      " 974.4464 974.3735 976.2255 973.7617 973.095  972.7014 977.9179 974.3522\n",
      " 976.0075 977.5087 975.5859 978.7945 977.9914 975.944  980.6183 976.0959\n",
      " 977.6809 977.4991 979.7537 976.8638 979.2324 977.2878 977.486  982.3251\n",
      " 978.9978 981.2934 983.9214 980.2899 982.2089 982.727  980.5157 982.1354\n",
      " 978.3683 984.1834 979.001  979.589  983.3432 981.2007 983.1963 980.6093\n",
      " 979.7698 978.1405 982.6131 980.9271 981.103  982.2317 978.4022 980.2232\n",
      " 983.4507 982.9493 978.9885 979.064  978.8465 978.3078 981.2746 982.9687\n",
      " 983.5149 982.256  979.3913 983.1537 979.7287 979.906  979.7902 980.2403\n",
      " 980.5826 980.9504 981.9848 982.1775 981.7005 982.1656 986.9057 985.8415\n",
      " 985.0902 982.7901 983.301  982.6951 988.907  987.8345 987.1901 985.8993\n",
      " 985.3106 988.9694 992.0155 986.8051 987.9533 989.4883 987.8164 992.7012\n",
      " 991.3703 996.1021 992.7345 994.9896]\n"
     ]
    }
   ],
   "source": [
    "import pandas as pd\n",
    "import numpy as np\n",
    "\n",
    "df = pd.read_csv (\"C:\\\\Users\\\\manas\\\\Downloads\\\\Barometer.csv\")\n",
    "\n",
    "baroList = df['Value'].to_numpy()\n",
    "\n",
    "baroList = np.array(baroList)\n",
    "print(baroList)"
   ]
  },
  {
   "cell_type": "code",
   "execution_count": 32,
   "id": "05aacedb-0a65-465b-9e7a-d40ecd030449",
   "metadata": {},
   "outputs": [
    {
     "name": "stdout",
     "output_type": "stream",
     "text": [
      "[array([969.5802, 971.0255, 973.3149, 971.0667, 974.4464, 976.2255,\n",
      "       973.095 , 977.9179, 976.0075, 975.5859, 977.9914, 980.6183,\n",
      "       977.6809, 979.7537, 979.2324, 977.486 , 978.9978, 983.9214,\n",
      "       982.2089, 980.5157, 978.3683, 979.001 , 983.3432, 983.1963,\n",
      "       979.7698, 982.6131, 981.103 , 978.4022, 983.4507, 978.9885,\n",
      "       978.8465, 981.2746, 983.5149, 979.3913, 979.7287, 979.7902,\n",
      "       980.5826, 981.9848, 981.7005, 986.9057, 985.0902, 983.301 ,\n",
      "       988.907 , 987.1901, 985.3106, 992.0155, 987.9533, 987.8164,\n",
      "       991.3703, 992.7345])]\n",
      "[array([994.9896, 996.1021, 992.7012, 989.4883, 986.8051, 988.9694,\n",
      "       985.8993, 987.8345, 982.6951, 982.7901, 985.8415, 982.1656,\n",
      "       982.1775, 980.9504, 980.2403, 979.906 , 983.1537, 982.256 ,\n",
      "       982.9687, 978.3078, 979.064 , 982.9493, 980.2232, 982.2317,\n",
      "       980.9271, 978.1405, 980.6093, 981.2007, 979.589 , 984.1834,\n",
      "       982.1354, 982.727 , 980.2899, 981.2934, 982.3251, 977.2878,\n",
      "       976.8638, 977.4991, 976.0959, 975.944 , 978.7945, 977.5087,\n",
      "       974.3522, 972.7014, 973.7617, 974.3735, 971.6737, 968.4911,\n",
      "       973.3719, 966.7989])]\n"
     ]
    }
   ],
   "source": [
    "baroA = []\n",
    "baroB = []\n",
    "\n",
    "baroA.append(baroList[::2])\n",
    "baroB.append(baroList[::-2])\n",
    "\n",
    "print(baroA)\n",
    "print(baroB)"
   ]
  },
  {
   "cell_type": "code",
   "execution_count": 43,
   "id": "14d0e124-5ded-4e6f-8a2a-c9417fd1c020",
   "metadata": {},
   "outputs": [
    {
     "name": "stdout",
     "output_type": "stream",
     "text": [
      "[array([349.3584, 337.796 , 319.4808, 337.4664, 310.4288, 296.196 ,\n",
      "       321.24  , 282.6568, 297.94  , 301.3128, 282.0688, 261.0536,\n",
      "       284.5528, 267.9704, 272.1408, 286.112 , 274.0176, 234.6288,\n",
      "       248.3288, 261.8744, 279.0536, 273.992 , 239.2544, 240.4296,\n",
      "       267.8416, 245.0952, 257.176 , 278.7824, 238.3944, 274.092 ,\n",
      "       275.228 , 255.8032, 237.8808, 270.8696, 268.1704, 267.6784,\n",
      "       261.3392, 250.1216, 252.396 , 210.7544, 225.2784, 239.592 ,\n",
      "       194.744 , 208.4792, 223.5152, 169.876 , 202.3736, 203.4688,\n",
      "       175.0376, 164.124 ])] 1\n",
      "[array([146.0832, 137.1832, 164.3904, 190.0936, 211.5592, 194.2448,\n",
      "       218.8056, 203.324 , 244.4392, 243.6792, 219.268 , 248.6752,\n",
      "       248.58  , 258.3968, 264.0776, 266.752 , 240.7704, 247.952 ,\n",
      "       242.2504, 279.5376, 273.488 , 242.4056, 264.2144, 248.1464,\n",
      "       258.5832, 280.876 , 261.1256, 256.3944, 269.288 , 232.5328,\n",
      "       248.9168, 244.184 , 263.6808, 255.6528, 247.3992, 287.6976,\n",
      "       291.0896, 286.0072, 297.2328, 298.448 , 275.644 , 285.9304,\n",
      "       311.1824, 324.3888, 315.9064, 311.012 , 332.6104, 358.0712,\n",
      "       319.0248, 371.6088])] 1\n"
     ]
    }
   ],
   "source": [
    "altitude = lambda p: (1013.25 - p) * 8\n",
    "\n",
    "altA = [altitude(p) for p in baroA]\n",
    "altB = [altitude(p) for p in baroB]\n",
    "\n",
    "np.array(altA)\n",
    "np.array(altB)\n",
    "\n",
    "print(altA, len(altA))\n",
    "print(altB, len(altB))"
   ]
  },
  {
   "cell_type": "code",
   "execution_count": 41,
   "id": "849aaa56-0ea2-4838-abf6-bb9c522e9862",
   "metadata": {},
   "outputs": [
    {
     "name": "stdout",
     "output_type": "stream",
     "text": [
      "[datetime.datetime(1900, 1, 1, 12, 30)]\n"
     ]
    }
   ],
   "source": [
    "from datetime import timedelta, datetime\n",
    "\n",
    "start_time = datetime.strptime(\"12:30:00\", \"%H:%M:%S\")\n",
    "timestamps = np.array([start_time + timedelta(minutes=i) for i in range(len(altA))])\n",
    "\n",
    "print(timestamps)"
   ]
  },
  {
   "cell_type": "code",
   "execution_count": 42,
   "id": "5a08e3d4-a34d-456d-83e8-3cda2256183a",
   "metadata": {},
   "outputs": [
    {
     "ename": "LinAlgError",
     "evalue": "SVD did not converge in Linear Least Squares",
     "output_type": "error",
     "traceback": [
      "\u001b[1;31m---------------------------------------------------------------------------\u001b[0m",
      "\u001b[1;31mLinAlgError\u001b[0m                               Traceback (most recent call last)",
      "Cell \u001b[1;32mIn[42], line 1\u001b[0m\n\u001b[1;32m----> 1\u001b[0m coefficients_a \u001b[38;5;241m=\u001b[39m np\u001b[38;5;241m.\u001b[39mpolyfit(np\u001b[38;5;241m.\u001b[39marange(\u001b[38;5;28mlen\u001b[39m(altA)), altA, \u001b[38;5;241m3\u001b[39m)\n\u001b[0;32m      2\u001b[0m filtA \u001b[38;5;241m=\u001b[39m np\u001b[38;5;241m.\u001b[39mpolyval(coefficients_a, np\u001b[38;5;241m.\u001b[39marange(\u001b[38;5;28mlen\u001b[39m(altA)))\n",
      "File \u001b[1;32mF:\\Anaconda\\Lib\\site-packages\\numpy\\lib\\polynomial.py:669\u001b[0m, in \u001b[0;36mpolyfit\u001b[1;34m(x, y, deg, rcond, full, w, cov)\u001b[0m\n\u001b[0;32m    667\u001b[0m scale \u001b[38;5;241m=\u001b[39m NX\u001b[38;5;241m.\u001b[39msqrt((lhs\u001b[38;5;241m*\u001b[39mlhs)\u001b[38;5;241m.\u001b[39msum(axis\u001b[38;5;241m=\u001b[39m\u001b[38;5;241m0\u001b[39m))\n\u001b[0;32m    668\u001b[0m lhs \u001b[38;5;241m/\u001b[39m\u001b[38;5;241m=\u001b[39m scale\n\u001b[1;32m--> 669\u001b[0m c, resids, rank, s \u001b[38;5;241m=\u001b[39m lstsq(lhs, rhs, rcond)\n\u001b[0;32m    670\u001b[0m c \u001b[38;5;241m=\u001b[39m (c\u001b[38;5;241m.\u001b[39mT\u001b[38;5;241m/\u001b[39mscale)\u001b[38;5;241m.\u001b[39mT  \u001b[38;5;66;03m# broadcast scale coefficients\u001b[39;00m\n\u001b[0;32m    672\u001b[0m \u001b[38;5;66;03m# warn on rank reduction, which indicates an ill conditioned matrix\u001b[39;00m\n",
      "File \u001b[1;32mF:\\Anaconda\\Lib\\site-packages\\numpy\\linalg\\linalg.py:2326\u001b[0m, in \u001b[0;36mlstsq\u001b[1;34m(a, b, rcond)\u001b[0m\n\u001b[0;32m   2323\u001b[0m \u001b[38;5;28;01mif\u001b[39;00m n_rhs \u001b[38;5;241m==\u001b[39m \u001b[38;5;241m0\u001b[39m:\n\u001b[0;32m   2324\u001b[0m     \u001b[38;5;66;03m# lapack can't handle n_rhs = 0 - so allocate the array one larger in that axis\u001b[39;00m\n\u001b[0;32m   2325\u001b[0m     b \u001b[38;5;241m=\u001b[39m zeros(b\u001b[38;5;241m.\u001b[39mshape[:\u001b[38;5;241m-\u001b[39m\u001b[38;5;241m2\u001b[39m] \u001b[38;5;241m+\u001b[39m (m, n_rhs \u001b[38;5;241m+\u001b[39m \u001b[38;5;241m1\u001b[39m), dtype\u001b[38;5;241m=\u001b[39mb\u001b[38;5;241m.\u001b[39mdtype)\n\u001b[1;32m-> 2326\u001b[0m x, resids, rank, s \u001b[38;5;241m=\u001b[39m gufunc(a, b, rcond, signature\u001b[38;5;241m=\u001b[39msignature, extobj\u001b[38;5;241m=\u001b[39mextobj)\n\u001b[0;32m   2327\u001b[0m \u001b[38;5;28;01mif\u001b[39;00m m \u001b[38;5;241m==\u001b[39m \u001b[38;5;241m0\u001b[39m:\n\u001b[0;32m   2328\u001b[0m     x[\u001b[38;5;241m.\u001b[39m\u001b[38;5;241m.\u001b[39m\u001b[38;5;241m.\u001b[39m] \u001b[38;5;241m=\u001b[39m \u001b[38;5;241m0\u001b[39m\n",
      "File \u001b[1;32mF:\\Anaconda\\Lib\\site-packages\\numpy\\linalg\\linalg.py:124\u001b[0m, in \u001b[0;36m_raise_linalgerror_lstsq\u001b[1;34m(err, flag)\u001b[0m\n\u001b[0;32m    123\u001b[0m \u001b[38;5;28;01mdef\u001b[39;00m \u001b[38;5;21m_raise_linalgerror_lstsq\u001b[39m(err, flag):\n\u001b[1;32m--> 124\u001b[0m     \u001b[38;5;28;01mraise\u001b[39;00m LinAlgError(\u001b[38;5;124m\"\u001b[39m\u001b[38;5;124mSVD did not converge in Linear Least Squares\u001b[39m\u001b[38;5;124m\"\u001b[39m)\n",
      "\u001b[1;31mLinAlgError\u001b[0m: SVD did not converge in Linear Least Squares"
     ]
    }
   ],
   "source": [
    "coefficients_a = np.polyfit(np.arange(len(altA)), altA, 3)\n",
    "filtA = np.polyval(coefficients_a, np.arange(len(altA)))"
   ]
  },
  {
   "cell_type": "code",
   "execution_count": null,
   "id": "ceba6dd8-46a7-4494-8d07-083a15b7de0d",
   "metadata": {},
   "outputs": [],
   "source": []
  }
 ],
 "metadata": {
  "kernelspec": {
   "display_name": "Python 3 (ipykernel)",
   "language": "python",
   "name": "python3"
  },
  "language_info": {
   "codemirror_mode": {
    "name": "ipython",
    "version": 3
   },
   "file_extension": ".py",
   "mimetype": "text/x-python",
   "name": "python",
   "nbconvert_exporter": "python",
   "pygments_lexer": "ipython3",
   "version": "3.11.7"
  }
 },
 "nbformat": 4,
 "nbformat_minor": 5
}
