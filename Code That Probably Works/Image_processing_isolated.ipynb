{
  "nbformat": 4,
  "nbformat_minor": 0,
  "metadata": {
    "colab": {
      "provenance": []
    },
    "kernelspec": {
      "name": "python3",
      "display_name": "Python 3"
    },
    "language_info": {
      "name": "python"
    }
  },
  "cells": [
    {
      "cell_type": "code",
      "execution_count": null,
      "metadata": {
        "colab": {
          "base_uri": "https://localhost:8080/"
        },
        "id": "FRTmH49ss5Jw",
        "outputId": "67411d9b-8c5d-4701-81bb-5ea944565f18"
      },
      "outputs": [
        {
          "output_type": "stream",
          "name": "stdout",
          "text": [
            "--2023-12-02 09:22:19--  https://antidote.cloud/f/467bc9fab4da4d2da65f/?dl=1\n",
            "Resolving antidote.cloud (antidote.cloud)... 193.30.122.219\n",
            "Connecting to antidote.cloud (antidote.cloud)|193.30.122.219|:443... connected.\n",
            "HTTP request sent, awaiting response... 302 Found\n",
            "Location: https://antidote.cloud/seafhttp/files/f5968226-bbec-4baf-aace-63dfbf118816/img.jpg [following]\n",
            "--2023-12-02 09:22:20--  https://antidote.cloud/seafhttp/files/f5968226-bbec-4baf-aace-63dfbf118816/img.jpg\n",
            "Reusing existing connection to antidote.cloud:443.\n",
            "HTTP request sent, awaiting response... 200 OK\n",
            "Length: 75466 (74K) [image/jpeg]\n",
            "Saving to: ‘img.jpg’\n",
            "\n",
            "img.jpg             100%[===================>]  73.70K  --.-KB/s    in 0.1s    \n",
            "\n",
            "2023-12-02 09:22:20 (723 KB/s) - ‘img.jpg’ saved [75466/75466]\n",
            "\n"
          ]
        }
      ],
      "source": [
        "! wget https://antidote.cloud/f/467bc9fab4da4d2da65f/?dl=1 -O img.jpg"
      ]
    },
    {
      "cell_type": "code",
      "source": [
        "#import libraries\n",
        "import cv2\n",
        "import numpy as np\n",
        "from google.colab.patches import cv2_imshow\n",
        "\n",
        "#use the image\n",
        "frame = cv2.imread('img.jpg')\n",
        "\n",
        "class im2angle:\n",
        "  def __init__(self,img):\n",
        "    self.frame = img\n",
        "    self.height, self.width, self.channels = img.shape\n",
        "\n",
        "  def edge_detection(self):\n",
        "    hsv = cv2.cvtColor(frame, cv2.COLOR_BGR2HSV)\n",
        "    lower_blue = np.array([80, 40, 40])\n",
        "    upper_blue = np.array([150, 255, 255])\n",
        "    mask = cv2.inRange(hsv, lower_blue, upper_blue)\n",
        "    res = cv2.bitwise_and(frame, frame, mask)\n",
        "    edgedet = cv2.Canny(mask,100,200)\n",
        "    return edgedet\n",
        "\n",
        "  def region_of_interest(self, edgedet):\n",
        "    points = np.array([[(0, 0), (self.width, 0), (self.width, self.height//2),(0, self.height//2)]], np.int32)\n",
        "    colorfill = cv2.fillPoly(edgedet, pts=[points], color=(0,0,0))\n",
        "    return colorfill\n",
        "\n",
        "  def hough_transform(self, cropped_edges):\n",
        "      lines = cv2.HoughLinesP(cropped_edges, 2, np.pi/180, 100, np.array([]), minLineLength=40, maxLineGap=5)\n",
        "      line_image = np.zeros_like(self.frame)\n",
        "      if lines is not None:\n",
        "          for line in lines:\n",
        "              for x1, y1, x2, y2 in line:\n",
        "                  cv2.line(line_image, (x1, y1), (x2, y2), (0, 255, 0), 5)\n",
        "                  return line_image\n",
        "\n",
        "  def show_image(self, frame):\n",
        "      cv2_imshow(frame)\n",
        "\n",
        "foo = im2angle(img)\n",
        "edges = foo.edge_detection()\n",
        "foo.show_image(edges)\n",
        "croped = foo.region_of_interest(edges)\n",
        "foo.show_image(croped)\n",
        "\n",
        "# Integrate Hough transform into Code 1\n",
        "hough_result = foo.hough_transform(croped)\n",
        "foo.show_image(hough_result)\n",
        "plt.imshow(hough_result)\n",
        "plt.show()\n",
        "\n",
        "  def show_image(self, frame):\n",
        "    cv2_imshow(frame)\n",
        "\n",
        "final = im2angle(frame)\n",
        "edges = final.edge_detection()\n",
        "final.show_image(edges)\n",
        "AOI = final.region_of_interest(edges)\n",
        "final.show_image(AOI)"
      ],
      "metadata": {
        "colab": {
          "base_uri": "https://localhost:8080/",
          "height": 141
        },
        "id": "U_bzf6JOs6q0",
        "outputId": "8e023ae3-2c5a-403f-9a03-66095fef22e7"
      },
      "execution_count": null,
      "outputs": [
        {
          "output_type": "error",
          "ename": "IndentationError",
          "evalue": "ignored",
          "traceback": [
            "\u001b[0;36m  File \u001b[0;32m\"<ipython-input-2-9baa4ec99a00>\"\u001b[0;36m, line \u001b[0;32m52\u001b[0m\n\u001b[0;31m    def show_image(self, frame):\u001b[0m\n\u001b[0m    ^\u001b[0m\n\u001b[0;31mIndentationError\u001b[0m\u001b[0;31m:\u001b[0m unexpected indent\n"
          ]
        }
      ]
    },
    {
      "cell_type": "code",
      "source": [
        "  def hough_transform(self, cropped_edges):\n",
        "        lines = cv2.HoughLinesP(cropped_edges, 2, np.pi/180, 100, np.array([]), minLineLength=40, maxLineGap=5)\n",
        "        line_image = np.zeros_like(self.frame)\n",
        "        if lines is not None:\n",
        "            for line in lines:\n",
        "                for x1, y1, x2, y2 in line:\n",
        "                    cv2.line(line_image, (x1, y1), (x2, y2), (0, 255, 0), 5)\n",
        "        return line_image\n",
        "\n",
        "  def show_image(self, frame):\n",
        "        cv2_imshow(frame)\n",
        "\n",
        "final = im2angle(frame)\n",
        "edges = final.edge_detection()\n",
        "final.show_image(edges)\n",
        "AOI = final.region_of_interest(edges)\n",
        "final.show_image(AOI)\n",
        "\n",
        "# Integrate Hough transform into Code 1\n",
        "hough_result = final.hough_transform(AOI)\n",
        "final.show_image(hough_result)\n",
        "plt.imshow(hough_result)\n",
        "plt.show()"
      ],
      "metadata": {
        "id": "WfgTAUyovoCq"
      },
      "execution_count": null,
      "outputs": []
    }
  ]
}